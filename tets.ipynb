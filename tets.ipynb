{
 "cells": [
  {
   "cell_type": "code",
   "execution_count": null,
   "metadata": {},
   "outputs": [],
   "source": [
    "import os\n",
    "import openai"
   ]
  },
  {
   "cell_type": "code",
   "execution_count": null,
   "metadata": {},
   "outputs": [],
   "source": [
    "from typing import List\n",
    "from pydantic import BaseModel, Field"
   ]
  },
  {
   "cell_type": "code",
   "execution_count": null,
   "metadata": {},
   "outputs": [],
   "source": [
    "class User:\n",
    "    def __init__(self, name: str, age:int, email:str) -> None:\n",
    "        self.name = name\n",
    "        self.age = age\n",
    "        self.email = email"
   ]
  },
  {
   "cell_type": "code",
   "execution_count": null,
   "metadata": {},
   "outputs": [],
   "source": [
    "user = User(name=\"Dev\", age=\"35\", email=\"devpatel212@gmail.com\")"
   ]
  },
  {
   "cell_type": "code",
   "execution_count": null,
   "metadata": {},
   "outputs": [],
   "source": [
    "user.age"
   ]
  },
  {
   "cell_type": "code",
   "execution_count": null,
   "metadata": {},
   "outputs": [],
   "source": [
    "class pUser(BaseModel):\n",
    "    name: str\n",
    "    age:int\n",
    "    email:str"
   ]
  },
  {
   "cell_type": "code",
   "execution_count": null,
   "metadata": {},
   "outputs": [],
   "source": [
    "foo_p = pUser(name=\"Dev\", age=\"34\", email=\"devpatel212@gmail.com\")"
   ]
  },
  {
   "cell_type": "code",
   "execution_count": null,
   "metadata": {},
   "outputs": [],
   "source": [
    "class Class(BaseModel):\n",
    "    students: List[pUser]"
   ]
  },
  {
   "cell_type": "code",
   "execution_count": null,
   "metadata": {},
   "outputs": [],
   "source": [
    "pObj = Class(students=[pUser(name=\"Mandvi\",age=30,email=\"mandvipatel@gmail.com\")])"
   ]
  },
  {
   "cell_type": "code",
   "execution_count": null,
   "metadata": {},
   "outputs": [],
   "source": [
    "pObj.model_dump()"
   ]
  },
  {
   "cell_type": "code",
   "execution_count": null,
   "metadata": {},
   "outputs": [],
   "source": [
    "class WeatherSearch(BaseModel):\n",
    "    '''Call this with the airport code to get the weather at airport'''\n",
    "    airpodCode: str = Field(description=\"airpod code to get weather for\")"
   ]
  },
  {
   "cell_type": "code",
   "execution_count": null,
   "metadata": {},
   "outputs": [],
   "source": [
    "from langchain.utils.openai_functions import convert_pydantic_to_openai_function"
   ]
  },
  {
   "cell_type": "code",
   "execution_count": null,
   "metadata": {},
   "outputs": [],
   "source": [
    "weather_search = convert_pydantic_to_openai_function(WeatherSearch)"
   ]
  },
  {
   "cell_type": "code",
   "execution_count": null,
   "metadata": {},
   "outputs": [],
   "source": [
    "weather_search"
   ]
  },
  {
   "cell_type": "code",
   "execution_count": null,
   "metadata": {},
   "outputs": [],
   "source": [
    "from langchain.chat_models import ChatOpenAI\n",
    "model = ChatOpenAI()\n",
    "model.invoke(\"What is weather of SF today?\", functions=[weather_search])"
   ]
  },
  {
   "cell_type": "code",
   "execution_count": null,
   "metadata": {},
   "outputs": [],
   "source": [
    "from typing import Optional\n",
    "from langchain.prompts import ChatPromptTemplate\n",
    "from langchain.chains.openai_functions import (\n",
    "     create_openai_fn_chain,\n",
    "    create_structured_output_chain,\n",
    "    create_openai_fn_runnable,\n",
    "    create_structured_output_runnable,\n",
    ")\n",
    "\n",
    "\n",
    "class Person(BaseModel):\n",
    "    '''Identifying information about a person'''\n",
    "    name: str\n",
    "    age: str\n",
    "    fav_food: Optional[str] = Field(None, description=\"The person's favourite food\")"
   ]
  },
  {
   "cell_type": "code",
   "execution_count": null,
   "metadata": {},
   "outputs": [],
   "source": [
    "llm = ChatOpenAI()\n",
    "prompt =  ChatPromptTemplate.from_messages(\n",
    "    [\n",
    "        (\n",
    "            \"system\",\n",
    "            \"You are a world class algorithm for extracting information in structured formats.\",\n",
    "        ),\n",
    "        (\n",
    "            \"human\",\n",
    "            \"Use the given format to extract information from the following input: {input}\",\n",
    "        ),\n",
    "        (\"human\", \"Tip: Make sure to answer in the correct format\"),\n",
    "    ]\n",
    ")\n",
    "\n",
    "person = convert_pydantic_to_openai_function(Person)\n",
    "person\n",
    "\n",
    "\n",
    "model = create_structured_output_runnable(person, llm, prompt)\n",
    "\n",
    "# model.invoke({\"input\": \"Sally is 13\"})"
   ]
  },
  {
   "cell_type": "code",
   "execution_count": null,
   "metadata": {},
   "outputs": [],
   "source": [
    "from typing import Optional\n",
    "from langchain.pydantic_v1 import BaseModel, Field\n",
    "from langchain.prompts import ChatPromptTemplate\n",
    "from langchain.chat_models import ChatOpenAI\n",
    "\n",
    "from langchain.chains.openai_functions import (\n",
    "     create_openai_fn_chain,\n",
    "    create_structured_output_chain,\n",
    "    create_openai_fn_runnable,\n",
    "    create_structured_output_runnable,\n",
    ")\n",
    "\n",
    "\n",
    "class Person(BaseModel):\n",
    "    \"\"\"Identifying information about a person.\"\"\"\n",
    "\n",
    "    name: str = Field(..., description=\"The person's name\")\n",
    "    age: int = Field(..., description=\"The person's age\")\n",
    "    fav_food: Optional[str] = Field(None, description=\"The person's favorite food\")"
   ]
  },
  {
   "cell_type": "code",
   "execution_count": null,
   "metadata": {},
   "outputs": [],
   "source": [
    "# If we pass in a model explicitly, we need to make sure it supports the OpenAI function-calling API.\n",
    "llm = ChatOpenAI(temperature=0,verbose=True)\n",
    "prompt = ChatPromptTemplate.from_messages(\n",
    "    [\n",
    "        (\n",
    "            \"system\",\n",
    "            \"You are a world class algorithm for extracting information in structured formats.\",\n",
    "        ),\n",
    "        (\n",
    "            \"human\",\n",
    "            \"Use the given format to extract information from the following input: {input}\",\n",
    "        ),\n",
    "        (\"human\", \"Tip: Make sure to answer in the correct format\"),\n",
    "    ]\n",
    ")\n",
    "\n",
    "chain = create_structured_output_chain(Person, llm, prompt)\n",
    "resp = chain.run({\"input\": \"Selly is 13\"})\n",
    "resp"
   ]
  },
  {
   "cell_type": "code",
   "execution_count": 25,
   "metadata": {},
   "outputs": [],
   "source": [
    "from pydantic import BaseModel\n",
    "from enum import Enum\n",
    "from langchain.chat_models import ChatOpenAI\n",
    "from langchain.schema.runnable import RunnableParallel\n",
    "from typing import Optional, List\n",
    "from langchain.globals import set_verbose\n",
    "\n",
    "set_verbose(True)"
   ]
  },
  {
   "cell_type": "code",
   "execution_count": 26,
   "metadata": {},
   "outputs": [],
   "source": [
    "llm = ChatOpenAI( temperature=0, verbose=True)\n",
    "   \n",
    "    \n",
    "class GeneralFeedbackTitle(str, Enum):\n",
    "    GENERAL_FEEDBACK: str  = \"General Feedback\"\n",
    "    SUGGESTED_ANSWER:str = \"Suggested Answer\"\n",
    "\n",
    "class GeneralFeedbackItem(BaseModel):\n",
    "    title: GeneralFeedbackTitle\n",
    "    content: str\n",
    "    \n",
    "class GeneralFeedback(BaseModel):\n",
    "    feedback: List[GeneralFeedbackItem]\n",
    "    \n",
    "    \n",
    "class FeedbackTitle(str, Enum):\n",
    "    PEEL_FEEDBACK:str = \"PEEL Feedback\"\n",
    "\n",
    "\n",
    "class PeelFeedbackItem(BaseModel):\n",
    "        Point:str = \"PEEL Feedback\"\n",
    "        Explanation:str = \"Explation Feedback\"\n",
    "        Example:str = \"Example Feedback\"\n",
    "        Link: str = \"Link Feedback\"\n",
    "\n",
    "class FeedbackItem(BaseModel):\n",
    "    title: FeedbackTitle\n",
    "    content: PeelFeedbackItem\n",
    "    \n",
    "class Feedback(BaseModel):\n",
    "    feedback: List[FeedbackItem]\n",
    "    \n",
    "    "
   ]
  },
  {
   "cell_type": "code",
   "execution_count": 24,
   "metadata": {},
   "outputs": [
    {
     "ename": "RuntimeError",
     "evalue": "no validator found for <class '__main__.GeneralFeedback'>, see `arbitrary_types_allowed` in Config",
     "output_type": "error",
     "traceback": [
      "\u001b[0;31m---------------------------------------------------------------------------\u001b[0m",
      "\u001b[0;31mRuntimeError\u001b[0m                              Traceback (most recent call last)",
      "\u001b[1;32m/Users/devpatel/Documents/projects/nomopai/tets.ipynb Cell 22\u001b[0m line \u001b[0;36m1\n\u001b[1;32m      <a href='vscode-notebook-cell:/Users/devpatel/Documents/projects/nomopai/tets.ipynb#X30sZmlsZQ%3D%3D?line=0'>1</a>\u001b[0m general_chain \u001b[39m=\u001b[39m ChatPromptTemplate\u001b[39m.\u001b[39mfrom_template(\u001b[39m\"\"\"\u001b[39m\u001b[39mI will give you a question prompt that is based on an example of the picture description part of a Primary 6 English oral examination in Singapore.\u001b[39m\n\u001b[1;32m      <a href='vscode-notebook-cell:/Users/devpatel/Documents/projects/nomopai/tets.ipynb#X30sZmlsZQ%3D%3D?line=1'>2</a>\u001b[0m \u001b[39m    I will provide a model answer and a student\u001b[39m\u001b[39m'\u001b[39m\u001b[39ms answer. I would like you to give appropriate feedback on what is lacking in the student\u001b[39m\u001b[39m'\u001b[39m\u001b[39ms answer and how the student\u001b[39m\u001b[39m'\u001b[39m\u001b[39ms answer can be improved.\u001b[39m\n\u001b[1;32m      <a href='vscode-notebook-cell:/Users/devpatel/Documents/projects/nomopai/tets.ipynb#X30sZmlsZQ%3D%3D?line=2'>3</a>\u001b[0m \u001b[39m    Your content, which must be child appropriate, should sound encouraging to the student. Address the student as first person (i.e. do not say \u001b[39m\u001b[39m'\u001b[39m\u001b[39mthe student). Specifically,\u001b[39m\n\u001b[0;32m   (...)\u001b[0m\n\u001b[1;32m     <a href='vscode-notebook-cell:/Users/devpatel/Documents/projects/nomopai/tets.ipynb#X30sZmlsZQ%3D%3D?line=9'>10</a>\u001b[0m \u001b[39m    Example student answer: \u001b[39m\u001b[39m{student_answer}\u001b[39;00m\n\u001b[1;32m     <a href='vscode-notebook-cell:/Users/devpatel/Documents/projects/nomopai/tets.ipynb#X30sZmlsZQ%3D%3D?line=10'>11</a>\u001b[0m \u001b[39m    \u001b[39m\u001b[39m\"\"\"\u001b[39m)\n\u001b[0;32m---> <a href='vscode-notebook-cell:/Users/devpatel/Documents/projects/nomopai/tets.ipynb#X30sZmlsZQ%3D%3D?line=11'>12</a>\u001b[0m chain1 \u001b[39m=\u001b[39m create_structured_output_chain(GeneralFeedback, llm, general_chain)\n\u001b[1;32m     <a href='vscode-notebook-cell:/Users/devpatel/Documents/projects/nomopai/tets.ipynb#X30sZmlsZQ%3D%3D?line=13'>14</a>\u001b[0m peel_chain \u001b[39m=\u001b[39m ChatPromptTemplate\u001b[39m.\u001b[39mfrom_template(\u001b[39m\"\"\"\u001b[39m\u001b[39mI will give you a question prompt that is based on an example of the picture description part of a Primary 6 English oral examination in Singapore.\u001b[39m\n\u001b[1;32m     <a href='vscode-notebook-cell:/Users/devpatel/Documents/projects/nomopai/tets.ipynb#X30sZmlsZQ%3D%3D?line=14'>15</a>\u001b[0m \u001b[39m    I will provide a model answer and a student\u001b[39m\u001b[39m'\u001b[39m\u001b[39ms answer. I would like you to give appropriate feedback on what is lacking in the student\u001b[39m\u001b[39m'\u001b[39m\u001b[39ms answer and how the student\u001b[39m\u001b[39m'\u001b[39m\u001b[39ms answer can be improved.\u001b[39m\n\u001b[1;32m     <a href='vscode-notebook-cell:/Users/devpatel/Documents/projects/nomopai/tets.ipynb#X30sZmlsZQ%3D%3D?line=15'>16</a>\u001b[0m \u001b[39m    Your content, which must be child appropriate, should sound encouraging to the student. Address the student as first person (i.e. do not say \u001b[39m\u001b[39m'\u001b[39m\u001b[39mthe student). Specifically,\u001b[39m\n\u001b[0;32m   (...)\u001b[0m\n\u001b[1;32m     <a href='vscode-notebook-cell:/Users/devpatel/Documents/projects/nomopai/tets.ipynb#X30sZmlsZQ%3D%3D?line=22'>23</a>\u001b[0m \u001b[39m    Example student answer: \u001b[39m\u001b[39m{student_answer}\u001b[39;00m\n\u001b[1;32m     <a href='vscode-notebook-cell:/Users/devpatel/Documents/projects/nomopai/tets.ipynb#X30sZmlsZQ%3D%3D?line=23'>24</a>\u001b[0m \u001b[39m    \u001b[39m\u001b[39m\"\"\"\u001b[39m) \n\u001b[1;32m     <a href='vscode-notebook-cell:/Users/devpatel/Documents/projects/nomopai/tets.ipynb#X30sZmlsZQ%3D%3D?line=25'>26</a>\u001b[0m chain2 \u001b[39m=\u001b[39m create_structured_output_chain(Feedback, llm, peel_chain)\n",
      "File \u001b[0;32m/opt/homebrew/Caskroom/miniconda/base/envs/nomopai/lib/python3.11/site-packages/langchain/chains/openai_functions/base.py:531\u001b[0m, in \u001b[0;36mcreate_structured_output_chain\u001b[0;34m(output_schema, llm, prompt, output_key, output_parser, **kwargs)\u001b[0m\n\u001b[1;32m    521\u001b[0m     function: Any \u001b[39m=\u001b[39m {\n\u001b[1;32m    522\u001b[0m         \u001b[39m\"\u001b[39m\u001b[39mname\u001b[39m\u001b[39m\"\u001b[39m: \u001b[39m\"\u001b[39m\u001b[39moutput_formatter\u001b[39m\u001b[39m\"\u001b[39m,\n\u001b[1;32m    523\u001b[0m         \u001b[39m\"\u001b[39m\u001b[39mdescription\u001b[39m\u001b[39m\"\u001b[39m: (\n\u001b[0;32m   (...)\u001b[0m\n\u001b[1;32m    527\u001b[0m         \u001b[39m\"\u001b[39m\u001b[39mparameters\u001b[39m\u001b[39m\"\u001b[39m: output_schema,\n\u001b[1;32m    528\u001b[0m     }\n\u001b[1;32m    529\u001b[0m \u001b[39melse\u001b[39;00m:\n\u001b[0;32m--> 531\u001b[0m     \u001b[39mclass\u001b[39;49;00m \u001b[39m_OutputFormatter\u001b[39;49;00m(BaseModel):\n\u001b[1;32m    532\u001b[0m \u001b[39m        \u001b[39;49m\u001b[39m\"\"\"Output formatter. Should always be used to format your response to the user.\"\"\"\u001b[39;49;00m  \u001b[39m# noqa: E501\u001b[39;49;00m\n\u001b[1;32m    534\u001b[0m         output: output_schema  \u001b[39m# type: ignore\u001b[39;00m\n",
      "File \u001b[0;32m/opt/homebrew/Caskroom/miniconda/base/envs/nomopai/lib/python3.11/site-packages/pydantic/v1/main.py:197\u001b[0m, in \u001b[0;36mModelMetaclass.__new__\u001b[0;34m(mcs, name, bases, namespace, **kwargs)\u001b[0m\n\u001b[1;32m    189\u001b[0m     \u001b[39mif\u001b[39;00m (\n\u001b[1;32m    190\u001b[0m         is_untouched(value)\n\u001b[1;32m    191\u001b[0m         \u001b[39mand\u001b[39;00m ann_type \u001b[39m!=\u001b[39m PyObject\n\u001b[0;32m   (...)\u001b[0m\n\u001b[1;32m    194\u001b[0m         )\n\u001b[1;32m    195\u001b[0m     ):\n\u001b[1;32m    196\u001b[0m         \u001b[39mcontinue\u001b[39;00m\n\u001b[0;32m--> 197\u001b[0m     fields[ann_name] \u001b[39m=\u001b[39m ModelField\u001b[39m.\u001b[39;49minfer(\n\u001b[1;32m    198\u001b[0m         name\u001b[39m=\u001b[39;49mann_name,\n\u001b[1;32m    199\u001b[0m         value\u001b[39m=\u001b[39;49mvalue,\n\u001b[1;32m    200\u001b[0m         annotation\u001b[39m=\u001b[39;49mann_type,\n\u001b[1;32m    201\u001b[0m         class_validators\u001b[39m=\u001b[39;49mvg\u001b[39m.\u001b[39;49mget_validators(ann_name),\n\u001b[1;32m    202\u001b[0m         config\u001b[39m=\u001b[39;49mconfig,\n\u001b[1;32m    203\u001b[0m     )\n\u001b[1;32m    204\u001b[0m \u001b[39melif\u001b[39;00m ann_name \u001b[39mnot\u001b[39;00m \u001b[39min\u001b[39;00m namespace \u001b[39mand\u001b[39;00m config\u001b[39m.\u001b[39munderscore_attrs_are_private:\n\u001b[1;32m    205\u001b[0m     private_attributes[ann_name] \u001b[39m=\u001b[39m PrivateAttr()\n",
      "File \u001b[0;32m/opt/homebrew/Caskroom/miniconda/base/envs/nomopai/lib/python3.11/site-packages/pydantic/v1/fields.py:506\u001b[0m, in \u001b[0;36mModelField.infer\u001b[0;34m(cls, name, value, annotation, class_validators, config)\u001b[0m\n\u001b[1;32m    503\u001b[0m     required \u001b[39m=\u001b[39m \u001b[39mFalse\u001b[39;00m\n\u001b[1;32m    504\u001b[0m annotation \u001b[39m=\u001b[39m get_annotation_from_field_info(annotation, field_info, name, config\u001b[39m.\u001b[39mvalidate_assignment)\n\u001b[0;32m--> 506\u001b[0m \u001b[39mreturn\u001b[39;00m \u001b[39mcls\u001b[39;49m(\n\u001b[1;32m    507\u001b[0m     name\u001b[39m=\u001b[39;49mname,\n\u001b[1;32m    508\u001b[0m     type_\u001b[39m=\u001b[39;49mannotation,\n\u001b[1;32m    509\u001b[0m     alias\u001b[39m=\u001b[39;49mfield_info\u001b[39m.\u001b[39;49malias,\n\u001b[1;32m    510\u001b[0m     class_validators\u001b[39m=\u001b[39;49mclass_validators,\n\u001b[1;32m    511\u001b[0m     default\u001b[39m=\u001b[39;49mvalue,\n\u001b[1;32m    512\u001b[0m     default_factory\u001b[39m=\u001b[39;49mfield_info\u001b[39m.\u001b[39;49mdefault_factory,\n\u001b[1;32m    513\u001b[0m     required\u001b[39m=\u001b[39;49mrequired,\n\u001b[1;32m    514\u001b[0m     model_config\u001b[39m=\u001b[39;49mconfig,\n\u001b[1;32m    515\u001b[0m     field_info\u001b[39m=\u001b[39;49mfield_info,\n\u001b[1;32m    516\u001b[0m )\n",
      "File \u001b[0;32m/opt/homebrew/Caskroom/miniconda/base/envs/nomopai/lib/python3.11/site-packages/pydantic/v1/fields.py:436\u001b[0m, in \u001b[0;36mModelField.__init__\u001b[0;34m(self, name, type_, class_validators, model_config, default, default_factory, required, final, alias, field_info)\u001b[0m\n\u001b[1;32m    434\u001b[0m \u001b[39mself\u001b[39m\u001b[39m.\u001b[39mshape: \u001b[39mint\u001b[39m \u001b[39m=\u001b[39m SHAPE_SINGLETON\n\u001b[1;32m    435\u001b[0m \u001b[39mself\u001b[39m\u001b[39m.\u001b[39mmodel_config\u001b[39m.\u001b[39mprepare_field(\u001b[39mself\u001b[39m)\n\u001b[0;32m--> 436\u001b[0m \u001b[39mself\u001b[39;49m\u001b[39m.\u001b[39;49mprepare()\n",
      "File \u001b[0;32m/opt/homebrew/Caskroom/miniconda/base/envs/nomopai/lib/python3.11/site-packages/pydantic/v1/fields.py:557\u001b[0m, in \u001b[0;36mModelField.prepare\u001b[0;34m(self)\u001b[0m\n\u001b[1;32m    555\u001b[0m \u001b[39mif\u001b[39;00m \u001b[39mself\u001b[39m\u001b[39m.\u001b[39mdefault \u001b[39mis\u001b[39;00m Undefined \u001b[39mand\u001b[39;00m \u001b[39mself\u001b[39m\u001b[39m.\u001b[39mdefault_factory \u001b[39mis\u001b[39;00m \u001b[39mNone\u001b[39;00m:\n\u001b[1;32m    556\u001b[0m     \u001b[39mself\u001b[39m\u001b[39m.\u001b[39mdefault \u001b[39m=\u001b[39m \u001b[39mNone\u001b[39;00m\n\u001b[0;32m--> 557\u001b[0m \u001b[39mself\u001b[39;49m\u001b[39m.\u001b[39;49mpopulate_validators()\n",
      "File \u001b[0;32m/opt/homebrew/Caskroom/miniconda/base/envs/nomopai/lib/python3.11/site-packages/pydantic/v1/fields.py:831\u001b[0m, in \u001b[0;36mModelField.populate_validators\u001b[0;34m(self)\u001b[0m\n\u001b[1;32m    827\u001b[0m \u001b[39mif\u001b[39;00m \u001b[39mnot\u001b[39;00m \u001b[39mself\u001b[39m\u001b[39m.\u001b[39msub_fields \u001b[39mor\u001b[39;00m \u001b[39mself\u001b[39m\u001b[39m.\u001b[39mshape \u001b[39m==\u001b[39m SHAPE_GENERIC:\n\u001b[1;32m    828\u001b[0m     get_validators \u001b[39m=\u001b[39m \u001b[39mgetattr\u001b[39m(\u001b[39mself\u001b[39m\u001b[39m.\u001b[39mtype_, \u001b[39m'\u001b[39m\u001b[39m__get_validators__\u001b[39m\u001b[39m'\u001b[39m, \u001b[39mNone\u001b[39;00m)\n\u001b[1;32m    829\u001b[0m     v_funcs \u001b[39m=\u001b[39m (\n\u001b[1;32m    830\u001b[0m         \u001b[39m*\u001b[39m[v\u001b[39m.\u001b[39mfunc \u001b[39mfor\u001b[39;00m v \u001b[39min\u001b[39;00m class_validators_ \u001b[39mif\u001b[39;00m v\u001b[39m.\u001b[39meach_item \u001b[39mand\u001b[39;00m v\u001b[39m.\u001b[39mpre],\n\u001b[0;32m--> 831\u001b[0m         \u001b[39m*\u001b[39m(get_validators() \u001b[39mif\u001b[39;00m get_validators \u001b[39melse\u001b[39;00m \u001b[39mlist\u001b[39m(find_validators(\u001b[39mself\u001b[39m\u001b[39m.\u001b[39mtype_, \u001b[39mself\u001b[39m\u001b[39m.\u001b[39mmodel_config))),\n\u001b[1;32m    832\u001b[0m         \u001b[39m*\u001b[39m[v\u001b[39m.\u001b[39mfunc \u001b[39mfor\u001b[39;00m v \u001b[39min\u001b[39;00m class_validators_ \u001b[39mif\u001b[39;00m v\u001b[39m.\u001b[39meach_item \u001b[39mand\u001b[39;00m \u001b[39mnot\u001b[39;00m v\u001b[39m.\u001b[39mpre],\n\u001b[1;32m    833\u001b[0m     )\n\u001b[1;32m    834\u001b[0m     \u001b[39mself\u001b[39m\u001b[39m.\u001b[39mvalidators \u001b[39m=\u001b[39m prep_validators(v_funcs)\n\u001b[1;32m    836\u001b[0m \u001b[39mself\u001b[39m\u001b[39m.\u001b[39mpre_validators \u001b[39m=\u001b[39m []\n",
      "File \u001b[0;32m/opt/homebrew/Caskroom/miniconda/base/envs/nomopai/lib/python3.11/site-packages/pydantic/v1/validators.py:765\u001b[0m, in \u001b[0;36mfind_validators\u001b[0;34m(type_, config)\u001b[0m\n\u001b[1;32m    763\u001b[0m     \u001b[39myield\u001b[39;00m make_arbitrary_type_validator(type_)\n\u001b[1;32m    764\u001b[0m \u001b[39melse\u001b[39;00m:\n\u001b[0;32m--> 765\u001b[0m     \u001b[39mraise\u001b[39;00m \u001b[39mRuntimeError\u001b[39;00m(\u001b[39mf\u001b[39m\u001b[39m'\u001b[39m\u001b[39mno validator found for \u001b[39m\u001b[39m{\u001b[39;00mtype_\u001b[39m}\u001b[39;00m\u001b[39m, see `arbitrary_types_allowed` in Config\u001b[39m\u001b[39m'\u001b[39m)\n",
      "\u001b[0;31mRuntimeError\u001b[0m: no validator found for <class '__main__.GeneralFeedback'>, see `arbitrary_types_allowed` in Config"
     ]
    }
   ],
   "source": [
    "general_chain = ChatPromptTemplate.from_template(\"\"\"I will give you a question prompt that is based on an example of the picture description part of a Primary 6 English oral examination in Singapore.\n",
    "    I will provide a model answer and a student's answer. I would like you to give appropriate feedback on what is lacking in the student's answer and how the student's answer can be improved.\n",
    "    Your content, which must be child appropriate, should sound encouraging to the student. Address the student as first person (i.e. do not say 'the student). Specifically,\n",
    "    I would like you to give your response in 3 parts: \n",
    "    1) general feedback first, starting with an encouraging phrase like 'good try', highlighting any errors in grammar or vocabulary and show how it can be improved, \n",
    "    2) providing a  suggested answer, in one paragraph (about 150 words) speech, enhance upon the student's answer.\n",
    "    The suggested answer is replied as if you are the student.\n",
    "    Question prompt: {question_prompt}\n",
    "    Model answer (in PEEL format): {model_answer}\n",
    "    Example student answer: {student_answer}\n",
    "    \"\"\")\n",
    "chain1 = create_structured_output_chain(GeneralFeedback, llm, general_chain)\n",
    "\n",
    "peel_chain = ChatPromptTemplate.from_template(\"\"\"I will give you a question prompt that is based on an example of the picture description part of a Primary 6 English oral examination in Singapore.\n",
    "    I will provide a model answer and a student's answer. I would like you to give appropriate feedback on what is lacking in the student's answer and how the student's answer can be improved.\n",
    "    Your content, which must be child appropriate, should sound encouraging to the student. Address the student as first person (i.e. do not say 'the student). Specifically,\n",
    "    I would like you to give your response in 3 parts: \n",
    "    1) focusing on PEEL feedback, specifying if the student fulfilled each aspect.\n",
    "    List in the bullet points: 'Point', 'Explanation', 'Example, 'Link') and start each bullet point as a  new paragraph;\n",
    "    The suggested answer is replied as if you are the student.\n",
    "    Question prompt: {question_prompt}\n",
    "    Model answer (in PEEL format): {model_answer}\n",
    "    Example student answer: {student_answer}\n",
    "    \"\"\") \n",
    "\n",
    "chain2 = create_structured_output_chain(Feedback, llm, peel_chain)\n",
    "    \n",
    "map_chain = RunnableParallel(generalFeedback=chain1, peelFeedback=chain2)\n",
    "    \n",
    "resp = map_chain.invoke({\"question_prompt\": \"\"\"We must teach Singaporeans more about the marine life found in Singapore. Do you agree? Why?\"\"\", \n",
    "                         \"model_answer\":\"\"\"Yes. I agree. I don’t know very much about the marine life in Singapore. In fact, I don’t think any of my classmates and friends do. We learn about natural habitats and ecosystems of places from the textbook but it does not tell us much about the local marine life. I am certain there are some native marine creatures, but I can’t name them nor can I identify them. We should be taught more about our natural heritage, so that we can treasure our environment more. Unless we learn about the value of our environment, we won’t take care of it. For instance, when my class went on a field trip to MacRitchie Reservoir last year, I saw tortoises in the water. I hear that they are released into the water but I know that our actions will impact the environment and may upset the ecosystem. We should teach Singaporeans about how our actions can affect our environment.\"\"\",\n",
    "                         \"student_answer\":\"\"\"Yes we should take care of out ocean\"\"\"})"
   ]
  },
  {
   "cell_type": "code",
   "execution_count": null,
   "metadata": {},
   "outputs": [],
   "source": []
  },
  {
   "cell_type": "code",
   "execution_count": null,
   "metadata": {},
   "outputs": [],
   "source": []
  }
 ],
 "metadata": {
  "kernelspec": {
   "display_name": "nomopai",
   "language": "python",
   "name": "python3"
  },
  "language_info": {
   "codemirror_mode": {
    "name": "ipython",
    "version": 3
   },
   "file_extension": ".py",
   "mimetype": "text/x-python",
   "name": "python",
   "nbconvert_exporter": "python",
   "pygments_lexer": "ipython3",
   "version": "3.11.5"
  }
 },
 "nbformat": 4,
 "nbformat_minor": 2
}
